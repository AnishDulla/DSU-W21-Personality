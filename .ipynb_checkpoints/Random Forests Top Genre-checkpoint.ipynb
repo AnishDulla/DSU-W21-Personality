{
 "cells": [
  {
   "cell_type": "markdown",
   "metadata": {},
   "source": [
    "# Random Forests Model: Predicting Music Interest with Personality Questions"
   ]
  },
  {
   "cell_type": "code",
   "execution_count": 1,
   "metadata": {},
   "outputs": [],
   "source": [
    "import pandas as pd\n",
    "import matplotlib.pyplot as plt\n",
    "import seaborn as sns\n",
    "from sklearn.model_selection import train_test_split\n",
    "from sklearn.ensemble import RandomForestClassifier\n",
    "from sklearn.metrics import confusion_matrix"
   ]
  },
  {
   "cell_type": "code",
   "execution_count": 86,
   "metadata": {},
   "outputs": [],
   "source": [
    "personality_questions = pd.read_csv('cleaned_youngpeople_data.csv')"
   ]
  },
  {
   "cell_type": "code",
   "execution_count": 3,
   "metadata": {
    "scrolled": true
   },
   "outputs": [
    {
     "data": {
      "text/html": [
       "<div>\n",
       "<style scoped>\n",
       "    .dataframe tbody tr th:only-of-type {\n",
       "        vertical-align: middle;\n",
       "    }\n",
       "\n",
       "    .dataframe tbody tr th {\n",
       "        vertical-align: top;\n",
       "    }\n",
       "\n",
       "    .dataframe thead th {\n",
       "        text-align: right;\n",
       "    }\n",
       "</style>\n",
       "<table border=\"1\" class=\"dataframe\">\n",
       "  <thead>\n",
       "    <tr style=\"text-align: right;\">\n",
       "      <th></th>\n",
       "      <th>Music</th>\n",
       "      <th>Slow songs or fast songs</th>\n",
       "      <th>Dance</th>\n",
       "      <th>Folk</th>\n",
       "      <th>Country</th>\n",
       "      <th>Classical music</th>\n",
       "      <th>Musical</th>\n",
       "      <th>Pop</th>\n",
       "      <th>Rock</th>\n",
       "      <th>Metal or Hardrock</th>\n",
       "      <th>...</th>\n",
       "      <th>Age</th>\n",
       "      <th>Height</th>\n",
       "      <th>Weight</th>\n",
       "      <th>Number of siblings</th>\n",
       "      <th>Gender</th>\n",
       "      <th>Left - right handed</th>\n",
       "      <th>Education</th>\n",
       "      <th>Only child</th>\n",
       "      <th>Village - town</th>\n",
       "      <th>House - block of flats</th>\n",
       "    </tr>\n",
       "  </thead>\n",
       "  <tbody>\n",
       "    <tr>\n",
       "      <th>0</th>\n",
       "      <td>5</td>\n",
       "      <td>3</td>\n",
       "      <td>2</td>\n",
       "      <td>1</td>\n",
       "      <td>2</td>\n",
       "      <td>2</td>\n",
       "      <td>1</td>\n",
       "      <td>5</td>\n",
       "      <td>5</td>\n",
       "      <td>1</td>\n",
       "      <td>...</td>\n",
       "      <td>20</td>\n",
       "      <td>163</td>\n",
       "      <td>48</td>\n",
       "      <td>1</td>\n",
       "      <td>female</td>\n",
       "      <td>right handed</td>\n",
       "      <td>college/bachelor degree</td>\n",
       "      <td>no</td>\n",
       "      <td>village</td>\n",
       "      <td>block of flats</td>\n",
       "    </tr>\n",
       "    <tr>\n",
       "      <th>1</th>\n",
       "      <td>4</td>\n",
       "      <td>4</td>\n",
       "      <td>2</td>\n",
       "      <td>1</td>\n",
       "      <td>1</td>\n",
       "      <td>1</td>\n",
       "      <td>2</td>\n",
       "      <td>3</td>\n",
       "      <td>5</td>\n",
       "      <td>4</td>\n",
       "      <td>...</td>\n",
       "      <td>19</td>\n",
       "      <td>163</td>\n",
       "      <td>58</td>\n",
       "      <td>2</td>\n",
       "      <td>female</td>\n",
       "      <td>right handed</td>\n",
       "      <td>college/bachelor degree</td>\n",
       "      <td>no</td>\n",
       "      <td>city</td>\n",
       "      <td>block of flats</td>\n",
       "    </tr>\n",
       "    <tr>\n",
       "      <th>2</th>\n",
       "      <td>5</td>\n",
       "      <td>5</td>\n",
       "      <td>2</td>\n",
       "      <td>2</td>\n",
       "      <td>3</td>\n",
       "      <td>4</td>\n",
       "      <td>5</td>\n",
       "      <td>3</td>\n",
       "      <td>5</td>\n",
       "      <td>3</td>\n",
       "      <td>...</td>\n",
       "      <td>20</td>\n",
       "      <td>176</td>\n",
       "      <td>67</td>\n",
       "      <td>2</td>\n",
       "      <td>female</td>\n",
       "      <td>right handed</td>\n",
       "      <td>secondary school</td>\n",
       "      <td>no</td>\n",
       "      <td>city</td>\n",
       "      <td>block of flats</td>\n",
       "    </tr>\n",
       "    <tr>\n",
       "      <th>3</th>\n",
       "      <td>5</td>\n",
       "      <td>3</td>\n",
       "      <td>2</td>\n",
       "      <td>1</td>\n",
       "      <td>1</td>\n",
       "      <td>1</td>\n",
       "      <td>1</td>\n",
       "      <td>2</td>\n",
       "      <td>2</td>\n",
       "      <td>1</td>\n",
       "      <td>...</td>\n",
       "      <td>22</td>\n",
       "      <td>172</td>\n",
       "      <td>59</td>\n",
       "      <td>1</td>\n",
       "      <td>female</td>\n",
       "      <td>right handed</td>\n",
       "      <td>college/bachelor degree</td>\n",
       "      <td>yes</td>\n",
       "      <td>city</td>\n",
       "      <td>house/bungalow</td>\n",
       "    </tr>\n",
       "    <tr>\n",
       "      <th>4</th>\n",
       "      <td>5</td>\n",
       "      <td>3</td>\n",
       "      <td>4</td>\n",
       "      <td>3</td>\n",
       "      <td>2</td>\n",
       "      <td>4</td>\n",
       "      <td>3</td>\n",
       "      <td>5</td>\n",
       "      <td>3</td>\n",
       "      <td>1</td>\n",
       "      <td>...</td>\n",
       "      <td>20</td>\n",
       "      <td>170</td>\n",
       "      <td>59</td>\n",
       "      <td>1</td>\n",
       "      <td>female</td>\n",
       "      <td>right handed</td>\n",
       "      <td>secondary school</td>\n",
       "      <td>no</td>\n",
       "      <td>village</td>\n",
       "      <td>house/bungalow</td>\n",
       "    </tr>\n",
       "    <tr>\n",
       "      <th>...</th>\n",
       "      <td>...</td>\n",
       "      <td>...</td>\n",
       "      <td>...</td>\n",
       "      <td>...</td>\n",
       "      <td>...</td>\n",
       "      <td>...</td>\n",
       "      <td>...</td>\n",
       "      <td>...</td>\n",
       "      <td>...</td>\n",
       "      <td>...</td>\n",
       "      <td>...</td>\n",
       "      <td>...</td>\n",
       "      <td>...</td>\n",
       "      <td>...</td>\n",
       "      <td>...</td>\n",
       "      <td>...</td>\n",
       "      <td>...</td>\n",
       "      <td>...</td>\n",
       "      <td>...</td>\n",
       "      <td>...</td>\n",
       "      <td>...</td>\n",
       "    </tr>\n",
       "    <tr>\n",
       "      <th>972</th>\n",
       "      <td>5</td>\n",
       "      <td>2</td>\n",
       "      <td>5</td>\n",
       "      <td>2</td>\n",
       "      <td>2</td>\n",
       "      <td>5</td>\n",
       "      <td>4</td>\n",
       "      <td>4</td>\n",
       "      <td>4</td>\n",
       "      <td>3</td>\n",
       "      <td>...</td>\n",
       "      <td>20</td>\n",
       "      <td>164</td>\n",
       "      <td>57</td>\n",
       "      <td>1</td>\n",
       "      <td>female</td>\n",
       "      <td>right handed</td>\n",
       "      <td>secondary school</td>\n",
       "      <td>no</td>\n",
       "      <td>city</td>\n",
       "      <td>house/bungalow</td>\n",
       "    </tr>\n",
       "    <tr>\n",
       "      <th>973</th>\n",
       "      <td>4</td>\n",
       "      <td>4</td>\n",
       "      <td>5</td>\n",
       "      <td>1</td>\n",
       "      <td>3</td>\n",
       "      <td>4</td>\n",
       "      <td>1</td>\n",
       "      <td>4</td>\n",
       "      <td>1</td>\n",
       "      <td>1</td>\n",
       "      <td>...</td>\n",
       "      <td>27</td>\n",
       "      <td>183</td>\n",
       "      <td>80</td>\n",
       "      <td>5</td>\n",
       "      <td>male</td>\n",
       "      <td>left handed</td>\n",
       "      <td>masters degree</td>\n",
       "      <td>no</td>\n",
       "      <td>village</td>\n",
       "      <td>house/bungalow</td>\n",
       "    </tr>\n",
       "    <tr>\n",
       "      <th>974</th>\n",
       "      <td>4</td>\n",
       "      <td>3</td>\n",
       "      <td>1</td>\n",
       "      <td>1</td>\n",
       "      <td>2</td>\n",
       "      <td>2</td>\n",
       "      <td>2</td>\n",
       "      <td>3</td>\n",
       "      <td>4</td>\n",
       "      <td>1</td>\n",
       "      <td>...</td>\n",
       "      <td>18</td>\n",
       "      <td>173</td>\n",
       "      <td>75</td>\n",
       "      <td>0</td>\n",
       "      <td>female</td>\n",
       "      <td>right handed</td>\n",
       "      <td>secondary school</td>\n",
       "      <td>yes</td>\n",
       "      <td>city</td>\n",
       "      <td>block of flats</td>\n",
       "    </tr>\n",
       "    <tr>\n",
       "      <th>975</th>\n",
       "      <td>5</td>\n",
       "      <td>3</td>\n",
       "      <td>3</td>\n",
       "      <td>3</td>\n",
       "      <td>1</td>\n",
       "      <td>3</td>\n",
       "      <td>1</td>\n",
       "      <td>3</td>\n",
       "      <td>4</td>\n",
       "      <td>1</td>\n",
       "      <td>...</td>\n",
       "      <td>25</td>\n",
       "      <td>173</td>\n",
       "      <td>58</td>\n",
       "      <td>1</td>\n",
       "      <td>female</td>\n",
       "      <td>right handed</td>\n",
       "      <td>college/bachelor degree</td>\n",
       "      <td>no</td>\n",
       "      <td>city</td>\n",
       "      <td>block of flats</td>\n",
       "    </tr>\n",
       "    <tr>\n",
       "      <th>976</th>\n",
       "      <td>5</td>\n",
       "      <td>5</td>\n",
       "      <td>4</td>\n",
       "      <td>3</td>\n",
       "      <td>2</td>\n",
       "      <td>3</td>\n",
       "      <td>3</td>\n",
       "      <td>4</td>\n",
       "      <td>1</td>\n",
       "      <td>1</td>\n",
       "      <td>...</td>\n",
       "      <td>21</td>\n",
       "      <td>185</td>\n",
       "      <td>72</td>\n",
       "      <td>1</td>\n",
       "      <td>male</td>\n",
       "      <td>right handed</td>\n",
       "      <td>secondary school</td>\n",
       "      <td>no</td>\n",
       "      <td>village</td>\n",
       "      <td>house/bungalow</td>\n",
       "    </tr>\n",
       "  </tbody>\n",
       "</table>\n",
       "<p>977 rows × 150 columns</p>\n",
       "</div>"
      ],
      "text/plain": [
       "     Music  Slow songs or fast songs  Dance  Folk  Country  Classical music  \\\n",
       "0        5                         3      2     1        2                2   \n",
       "1        4                         4      2     1        1                1   \n",
       "2        5                         5      2     2        3                4   \n",
       "3        5                         3      2     1        1                1   \n",
       "4        5                         3      4     3        2                4   \n",
       "..     ...                       ...    ...   ...      ...              ...   \n",
       "972      5                         2      5     2        2                5   \n",
       "973      4                         4      5     1        3                4   \n",
       "974      4                         3      1     1        2                2   \n",
       "975      5                         3      3     3        1                3   \n",
       "976      5                         5      4     3        2                3   \n",
       "\n",
       "     Musical  Pop  Rock  Metal or Hardrock  ...  Age  Height  Weight  \\\n",
       "0          1    5     5                  1  ...   20     163      48   \n",
       "1          2    3     5                  4  ...   19     163      58   \n",
       "2          5    3     5                  3  ...   20     176      67   \n",
       "3          1    2     2                  1  ...   22     172      59   \n",
       "4          3    5     3                  1  ...   20     170      59   \n",
       "..       ...  ...   ...                ...  ...  ...     ...     ...   \n",
       "972        4    4     4                  3  ...   20     164      57   \n",
       "973        1    4     1                  1  ...   27     183      80   \n",
       "974        2    3     4                  1  ...   18     173      75   \n",
       "975        1    3     4                  1  ...   25     173      58   \n",
       "976        3    4     1                  1  ...   21     185      72   \n",
       "\n",
       "     Number of siblings  Gender  Left - right handed                Education  \\\n",
       "0                     1  female         right handed  college/bachelor degree   \n",
       "1                     2  female         right handed  college/bachelor degree   \n",
       "2                     2  female         right handed         secondary school   \n",
       "3                     1  female         right handed  college/bachelor degree   \n",
       "4                     1  female         right handed         secondary school   \n",
       "..                  ...     ...                  ...                      ...   \n",
       "972                   1  female         right handed         secondary school   \n",
       "973                   5    male          left handed           masters degree   \n",
       "974                   0  female         right handed         secondary school   \n",
       "975                   1  female         right handed  college/bachelor degree   \n",
       "976                   1    male         right handed         secondary school   \n",
       "\n",
       "     Only child  Village - town  House - block of flats  \n",
       "0            no         village          block of flats  \n",
       "1            no            city          block of flats  \n",
       "2            no            city          block of flats  \n",
       "3           yes            city          house/bungalow  \n",
       "4            no         village          house/bungalow  \n",
       "..          ...             ...                     ...  \n",
       "972          no            city          house/bungalow  \n",
       "973          no         village          house/bungalow  \n",
       "974         yes            city          block of flats  \n",
       "975          no            city          block of flats  \n",
       "976          no         village          house/bungalow  \n",
       "\n",
       "[977 rows x 150 columns]"
      ]
     },
     "execution_count": 3,
     "metadata": {},
     "output_type": "execute_result"
    }
   ],
   "source": [
    "personality_questions"
   ]
  },
  {
   "cell_type": "code",
   "execution_count": 4,
   "metadata": {},
   "outputs": [],
   "source": [
    "pd.options.display.max_seq_items = None"
   ]
  },
  {
   "cell_type": "code",
   "execution_count": 5,
   "metadata": {
    "scrolled": true
   },
   "outputs": [
    {
     "data": {
      "text/plain": [
       "Index(['Music', 'Slow songs or fast songs', 'Dance', 'Folk', 'Country',\n",
       "       'Classical music', 'Musical', 'Pop', 'Rock', 'Metal or Hardrock',\n",
       "       'Punk', 'Hiphop, Rap', 'Reggae, Ska', 'Swing, Jazz', 'Rock n roll',\n",
       "       'Alternative', 'Latino', 'Techno, Trance', 'Opera', 'Movies', 'Horror',\n",
       "       'Thriller', 'Comedy', 'Romantic', 'Sci-fi', 'War',\n",
       "       'Fantasy/Fairy tales', 'Animated', 'Documentary', 'Western', 'Action',\n",
       "       'History', 'Psychology', 'Politics', 'Mathematics', 'Physics',\n",
       "       'Internet', 'PC', 'Economy Management', 'Biology', 'Chemistry',\n",
       "       'Reading', 'Geography', 'Foreign languages', 'Medicine', 'Law', 'Cars',\n",
       "       'Art exhibitions', 'Religion', 'Countryside, outdoors', 'Dancing',\n",
       "       'Musical instruments', 'Writing', 'Passive sport', 'Active sport',\n",
       "       'Gardening', 'Celebrities', 'Shopping', 'Science and technology',\n",
       "       'Theatre', 'Fun with friends', 'Adrenaline sports', 'Pets', 'Flying',\n",
       "       'Storm', 'Darkness', 'Heights', 'Spiders', 'Snakes', 'Rats', 'Ageing',\n",
       "       'Dangerous dogs', 'Fear of public speaking', 'Smoking', 'Alcohol',\n",
       "       'Healthy eating', 'Daily events', 'Prioritising workload',\n",
       "       'Writing notes', 'Workaholism', 'Thinking ahead', 'Final judgement',\n",
       "       'Reliability', 'Keeping promises', 'Loss of interest',\n",
       "       'Friends versus money', 'Funniness', 'Fake', 'Criminal damage',\n",
       "       'Decision making', 'Elections', 'Self-criticism', 'Judgment calls',\n",
       "       'Hypochondria', 'Empathy', 'Eating to survive', 'Giving',\n",
       "       'Compassion to animals', 'Borrowed stuff', 'Loneliness',\n",
       "       'Cheating in school', 'Health', 'Changing the past', 'God', 'Dreams',\n",
       "       'Charity', 'Number of friends', 'Punctuality', 'Lying', 'Waiting',\n",
       "       'New environment', 'Mood swings', 'Appearence and gestures',\n",
       "       'Socializing', 'Achievements', 'Responding to a serious letter',\n",
       "       'Children', 'Assertiveness', 'Getting angry',\n",
       "       'Knowing the right people', 'Public speaking', 'Unpopularity',\n",
       "       'Life struggles', 'Happiness in life', 'Energy levels',\n",
       "       'Small - big dogs', 'Personality', 'Finding lost valuables',\n",
       "       'Getting up', 'Interests or hobbies', 'Parents' advice',\n",
       "       'Questionnaires or polls', 'Internet usage', 'Finances',\n",
       "       'Shopping centres', 'Branded clothing', 'Entertainment spending',\n",
       "       'Spending on looks', 'Spending on gadgets',\n",
       "       'Spending on healthy eating', 'Age', 'Height', 'Weight',\n",
       "       'Number of siblings', 'Gender', 'Left - right handed', 'Education',\n",
       "       'Only child', 'Village - town', 'House - block of flats'],\n",
       "      dtype='object')"
      ]
     },
     "execution_count": 5,
     "metadata": {},
     "output_type": "execute_result"
    }
   ],
   "source": [
    "personality_questions.columns"
   ]
  },
  {
   "cell_type": "code",
   "execution_count": 87,
   "metadata": {
    "scrolled": true
   },
   "outputs": [
    {
     "data": {
      "text/html": [
       "<div>\n",
       "<style scoped>\n",
       "    .dataframe tbody tr th:only-of-type {\n",
       "        vertical-align: middle;\n",
       "    }\n",
       "\n",
       "    .dataframe tbody tr th {\n",
       "        vertical-align: top;\n",
       "    }\n",
       "\n",
       "    .dataframe thead th {\n",
       "        text-align: right;\n",
       "    }\n",
       "</style>\n",
       "<table border=\"1\" class=\"dataframe\">\n",
       "  <thead>\n",
       "    <tr style=\"text-align: right;\">\n",
       "      <th></th>\n",
       "      <th>Music</th>\n",
       "      <th>Dance</th>\n",
       "      <th>Folk</th>\n",
       "      <th>Country</th>\n",
       "      <th>Classical music</th>\n",
       "      <th>Musical</th>\n",
       "      <th>Pop</th>\n",
       "      <th>Rock</th>\n",
       "      <th>Metal or Hardrock</th>\n",
       "      <th>Punk</th>\n",
       "      <th>Hiphop, Rap</th>\n",
       "      <th>Reggae, Ska</th>\n",
       "      <th>Swing, Jazz</th>\n",
       "      <th>Rock n roll</th>\n",
       "      <th>Alternative</th>\n",
       "      <th>Latino</th>\n",
       "      <th>Techno, Trance</th>\n",
       "      <th>Opera</th>\n",
       "    </tr>\n",
       "  </thead>\n",
       "  <tbody>\n",
       "    <tr>\n",
       "      <th>count</th>\n",
       "      <td>977.000000</td>\n",
       "      <td>977.000000</td>\n",
       "      <td>977.000000</td>\n",
       "      <td>977.000000</td>\n",
       "      <td>977.000000</td>\n",
       "      <td>977.000000</td>\n",
       "      <td>977.000000</td>\n",
       "      <td>977.000000</td>\n",
       "      <td>977.000000</td>\n",
       "      <td>977.000000</td>\n",
       "      <td>977.000000</td>\n",
       "      <td>977.000000</td>\n",
       "      <td>977.000000</td>\n",
       "      <td>977.000000</td>\n",
       "      <td>977.000000</td>\n",
       "      <td>977.000000</td>\n",
       "      <td>977.000000</td>\n",
       "      <td>977.000000</td>\n",
       "    </tr>\n",
       "    <tr>\n",
       "      <th>mean</th>\n",
       "      <td>4.736950</td>\n",
       "      <td>3.103378</td>\n",
       "      <td>2.279427</td>\n",
       "      <td>2.122825</td>\n",
       "      <td>2.960082</td>\n",
       "      <td>2.774821</td>\n",
       "      <td>3.487206</td>\n",
       "      <td>3.766633</td>\n",
       "      <td>2.362334</td>\n",
       "      <td>2.446264</td>\n",
       "      <td>2.901740</td>\n",
       "      <td>2.762538</td>\n",
       "      <td>2.768680</td>\n",
       "      <td>3.147390</td>\n",
       "      <td>2.832139</td>\n",
       "      <td>2.844422</td>\n",
       "      <td>2.324463</td>\n",
       "      <td>2.143296</td>\n",
       "    </tr>\n",
       "    <tr>\n",
       "      <th>std</th>\n",
       "      <td>0.653957</td>\n",
       "      <td>1.164959</td>\n",
       "      <td>1.131116</td>\n",
       "      <td>1.075653</td>\n",
       "      <td>1.246899</td>\n",
       "      <td>1.257136</td>\n",
       "      <td>1.153261</td>\n",
       "      <td>1.174696</td>\n",
       "      <td>1.371450</td>\n",
       "      <td>1.291297</td>\n",
       "      <td>1.372508</td>\n",
       "      <td>1.208283</td>\n",
       "      <td>1.253569</td>\n",
       "      <td>1.232574</td>\n",
       "      <td>1.337691</td>\n",
       "      <td>1.324560</td>\n",
       "      <td>1.313605</td>\n",
       "      <td>1.182150</td>\n",
       "    </tr>\n",
       "    <tr>\n",
       "      <th>min</th>\n",
       "      <td>1.000000</td>\n",
       "      <td>1.000000</td>\n",
       "      <td>1.000000</td>\n",
       "      <td>1.000000</td>\n",
       "      <td>1.000000</td>\n",
       "      <td>1.000000</td>\n",
       "      <td>1.000000</td>\n",
       "      <td>1.000000</td>\n",
       "      <td>1.000000</td>\n",
       "      <td>1.000000</td>\n",
       "      <td>1.000000</td>\n",
       "      <td>1.000000</td>\n",
       "      <td>1.000000</td>\n",
       "      <td>1.000000</td>\n",
       "      <td>1.000000</td>\n",
       "      <td>1.000000</td>\n",
       "      <td>1.000000</td>\n",
       "      <td>1.000000</td>\n",
       "    </tr>\n",
       "    <tr>\n",
       "      <th>25%</th>\n",
       "      <td>5.000000</td>\n",
       "      <td>2.000000</td>\n",
       "      <td>1.000000</td>\n",
       "      <td>1.000000</td>\n",
       "      <td>2.000000</td>\n",
       "      <td>2.000000</td>\n",
       "      <td>3.000000</td>\n",
       "      <td>3.000000</td>\n",
       "      <td>1.000000</td>\n",
       "      <td>1.000000</td>\n",
       "      <td>2.000000</td>\n",
       "      <td>2.000000</td>\n",
       "      <td>2.000000</td>\n",
       "      <td>2.000000</td>\n",
       "      <td>2.000000</td>\n",
       "      <td>2.000000</td>\n",
       "      <td>1.000000</td>\n",
       "      <td>1.000000</td>\n",
       "    </tr>\n",
       "    <tr>\n",
       "      <th>50%</th>\n",
       "      <td>5.000000</td>\n",
       "      <td>3.000000</td>\n",
       "      <td>2.000000</td>\n",
       "      <td>2.000000</td>\n",
       "      <td>3.000000</td>\n",
       "      <td>3.000000</td>\n",
       "      <td>4.000000</td>\n",
       "      <td>4.000000</td>\n",
       "      <td>2.000000</td>\n",
       "      <td>2.000000</td>\n",
       "      <td>3.000000</td>\n",
       "      <td>3.000000</td>\n",
       "      <td>3.000000</td>\n",
       "      <td>3.000000</td>\n",
       "      <td>3.000000</td>\n",
       "      <td>3.000000</td>\n",
       "      <td>2.000000</td>\n",
       "      <td>2.000000</td>\n",
       "    </tr>\n",
       "    <tr>\n",
       "      <th>75%</th>\n",
       "      <td>5.000000</td>\n",
       "      <td>4.000000</td>\n",
       "      <td>3.000000</td>\n",
       "      <td>3.000000</td>\n",
       "      <td>4.000000</td>\n",
       "      <td>4.000000</td>\n",
       "      <td>4.000000</td>\n",
       "      <td>5.000000</td>\n",
       "      <td>3.000000</td>\n",
       "      <td>3.000000</td>\n",
       "      <td>4.000000</td>\n",
       "      <td>4.000000</td>\n",
       "      <td>4.000000</td>\n",
       "      <td>4.000000</td>\n",
       "      <td>4.000000</td>\n",
       "      <td>4.000000</td>\n",
       "      <td>3.000000</td>\n",
       "      <td>3.000000</td>\n",
       "    </tr>\n",
       "    <tr>\n",
       "      <th>max</th>\n",
       "      <td>5.000000</td>\n",
       "      <td>5.000000</td>\n",
       "      <td>5.000000</td>\n",
       "      <td>5.000000</td>\n",
       "      <td>5.000000</td>\n",
       "      <td>5.000000</td>\n",
       "      <td>5.000000</td>\n",
       "      <td>5.000000</td>\n",
       "      <td>5.000000</td>\n",
       "      <td>5.000000</td>\n",
       "      <td>5.000000</td>\n",
       "      <td>5.000000</td>\n",
       "      <td>5.000000</td>\n",
       "      <td>5.000000</td>\n",
       "      <td>5.000000</td>\n",
       "      <td>5.000000</td>\n",
       "      <td>5.000000</td>\n",
       "      <td>5.000000</td>\n",
       "    </tr>\n",
       "  </tbody>\n",
       "</table>\n",
       "</div>"
      ],
      "text/plain": [
       "            Music       Dance        Folk     Country  Classical music  \\\n",
       "count  977.000000  977.000000  977.000000  977.000000       977.000000   \n",
       "mean     4.736950    3.103378    2.279427    2.122825         2.960082   \n",
       "std      0.653957    1.164959    1.131116    1.075653         1.246899   \n",
       "min      1.000000    1.000000    1.000000    1.000000         1.000000   \n",
       "25%      5.000000    2.000000    1.000000    1.000000         2.000000   \n",
       "50%      5.000000    3.000000    2.000000    2.000000         3.000000   \n",
       "75%      5.000000    4.000000    3.000000    3.000000         4.000000   \n",
       "max      5.000000    5.000000    5.000000    5.000000         5.000000   \n",
       "\n",
       "          Musical         Pop        Rock  Metal or Hardrock        Punk  \\\n",
       "count  977.000000  977.000000  977.000000         977.000000  977.000000   \n",
       "mean     2.774821    3.487206    3.766633           2.362334    2.446264   \n",
       "std      1.257136    1.153261    1.174696           1.371450    1.291297   \n",
       "min      1.000000    1.000000    1.000000           1.000000    1.000000   \n",
       "25%      2.000000    3.000000    3.000000           1.000000    1.000000   \n",
       "50%      3.000000    4.000000    4.000000           2.000000    2.000000   \n",
       "75%      4.000000    4.000000    5.000000           3.000000    3.000000   \n",
       "max      5.000000    5.000000    5.000000           5.000000    5.000000   \n",
       "\n",
       "       Hiphop, Rap  Reggae, Ska  Swing, Jazz  Rock n roll  Alternative  \\\n",
       "count   977.000000   977.000000   977.000000   977.000000   977.000000   \n",
       "mean      2.901740     2.762538     2.768680     3.147390     2.832139   \n",
       "std       1.372508     1.208283     1.253569     1.232574     1.337691   \n",
       "min       1.000000     1.000000     1.000000     1.000000     1.000000   \n",
       "25%       2.000000     2.000000     2.000000     2.000000     2.000000   \n",
       "50%       3.000000     3.000000     3.000000     3.000000     3.000000   \n",
       "75%       4.000000     4.000000     4.000000     4.000000     4.000000   \n",
       "max       5.000000     5.000000     5.000000     5.000000     5.000000   \n",
       "\n",
       "           Latino  Techno, Trance       Opera  \n",
       "count  977.000000      977.000000  977.000000  \n",
       "mean     2.844422        2.324463    2.143296  \n",
       "std      1.324560        1.313605    1.182150  \n",
       "min      1.000000        1.000000    1.000000  \n",
       "25%      2.000000        1.000000    1.000000  \n",
       "50%      3.000000        2.000000    2.000000  \n",
       "75%      4.000000        3.000000    3.000000  \n",
       "max      5.000000        5.000000    5.000000  "
      ]
     },
     "execution_count": 87,
     "metadata": {},
     "output_type": "execute_result"
    }
   ],
   "source": [
    "personality_questions[['Music','Dance','Folk', 'Country', 'Classical music', 'Musical', 'Pop', \n",
    "                                                            'Rock', 'Metal or Hardrock', 'Punk', 'Hiphop, Rap', \n",
    "                                                            'Reggae, Ska', 'Swing, Jazz', 'Rock n roll', \n",
    "                                                            'Alternative', 'Latino', 'Techno, Trance', 'Opera']].describe()"
   ]
  },
  {
   "cell_type": "code",
   "execution_count": 7,
   "metadata": {},
   "outputs": [],
   "source": [
    "#personality_questions['Top Genre'] = personality_questions[['Dance', 'Pop','Rock']].idxmax(axis=1)\n",
    "#^ugly feature engineering that only got accuracy of 20% so no point, plus loses info"
   ]
  },
  {
   "cell_type": "markdown",
   "metadata": {},
   "source": [
    "## Single Random Forest Classifer for Predicting Level of Interest in Music"
   ]
  },
  {
   "cell_type": "code",
   "execution_count": 21,
   "metadata": {},
   "outputs": [],
   "source": [
    "personality_to_music_questions = personality_questions[['Music', 'Daily events', 'Prioritising workload',\n",
    "       'Writing notes', 'Workaholism', 'Thinking ahead', 'Final judgement',\n",
    "       'Reliability', 'Keeping promises', 'Loss of interest',\n",
    "       'Friends versus money', 'Funniness', 'Fake', 'Criminal damage',\n",
    "       'Decision making', 'Elections', 'Self-criticism', 'Judgment calls',\n",
    "       'Hypochondria', 'Empathy', 'Eating to survive', 'Giving',\n",
    "       'Compassion to animals', 'Borrowed stuff', 'Loneliness',\n",
    "       'Cheating in school', 'Health', 'Changing the past', 'God', 'Dreams',\n",
    "       'Charity', 'Number of friends', 'Waiting',\n",
    "       'New environment', 'Mood swings', 'Appearence and gestures',\n",
    "       'Socializing', 'Achievements', 'Responding to a serious letter',\n",
    "       'Children', 'Assertiveness', 'Getting angry',\n",
    "       'Knowing the right people', 'Public speaking', 'Unpopularity',\n",
    "       'Life struggles', 'Happiness in life', 'Energy levels',\n",
    "       'Small - big dogs', 'Personality', 'Finding lost valuables',\n",
    "       'Getting up', 'Interests or hobbies', \"Parents' advice\"]]"
   ]
  },
  {
   "cell_type": "code",
   "execution_count": 9,
   "metadata": {},
   "outputs": [
    {
     "data": {
      "text/plain": [
       "RandomForestClassifier(n_estimators=150, oob_score=True, random_state=42)"
      ]
     },
     "execution_count": 9,
     "metadata": {},
     "output_type": "execute_result"
    }
   ],
   "source": [
    "X_train, X_test, y_train, y_test = train_test_split(personality_to_music_questions.drop(['Music'], axis='columns'),\n",
    "                                                    personality_to_music_questions['Music'], \n",
    "                                                    test_size=0.2)\n",
    "model = RandomForestClassifier(oob_score=True, random_state=42)\n",
    "#using 150 decision trees, oob_score will give a \n",
    "model.fit(X_train, y_train)"
   ]
  },
  {
   "cell_type": "code",
   "execution_count": 10,
   "metadata": {
    "scrolled": true
   },
   "outputs": [
    {
     "data": {
      "text/plain": [
       "0.7755102040816326"
      ]
     },
     "execution_count": 10,
     "metadata": {},
     "output_type": "execute_result"
    }
   ],
   "source": [
    "model.score(X_test, y_test)"
   ]
  },
  {
   "cell_type": "code",
   "execution_count": 11,
   "metadata": {
    "scrolled": true
   },
   "outputs": [
    {
     "data": {
      "text/plain": [
       "0.8271446862996159"
      ]
     },
     "execution_count": 11,
     "metadata": {},
     "output_type": "execute_result"
    }
   ],
   "source": [
    "#checking to see how well decision trees predicted scores\n",
    "model.oob_score_"
   ]
  },
  {
   "cell_type": "code",
   "execution_count": 12,
   "metadata": {},
   "outputs": [],
   "source": [
    "y_predicted = model.predict(X_test)"
   ]
  },
  {
   "cell_type": "code",
   "execution_count": 13,
   "metadata": {},
   "outputs": [],
   "source": [
    "confusematrix = confusion_matrix(y_test, y_predicted)"
   ]
  },
  {
   "cell_type": "code",
   "execution_count": 14,
   "metadata": {
    "scrolled": true
   },
   "outputs": [
    {
     "data": {
      "image/png": "[encoded data removed]",
      "text/plain": [
       "<Figure size 720x504 with 2 Axes>"
      ]
     },
     "metadata": {
      "needs_background": "light"
     },
     "output_type": "display_data"
    }
   ],
   "source": [
    "plt.figure(figsize=(10,7))\n",
    "sns.heatmap(confusematrix, annot=True)\n",
    "plt.xlabel('Predicted')\n",
    "plt.ylabel('Truth')\n",
    "plt.title('Heatmap of True vs Predicted Outputs of Model')\n",
    "plt.show()"
   ]
  },
  {
   "cell_type": "markdown",
   "metadata": {},
   "source": [
    "### Variable Importance Measures"
   ]
  },
  {
   "cell_type": "code",
   "execution_count": 15,
   "metadata": {},
   "outputs": [
    {
     "data": {
      "text/plain": [
       "array([0.02619499, 0.01997172, 0.01940528, 0.02281468, 0.02179965,\n",
       "       0.0166131 , 0.01796667, 0.01638186, 0.01711755, 0.02018511,\n",
       "       0.0257285 , 0.01733398, 0.01589655, 0.01914837, 0.01849223,\n",
       "       0.0204389 , 0.01725084, 0.01452952, 0.02252012, 0.02497236,\n",
       "       0.01999444, 0.0280941 , 0.01760441, 0.01765179, 0.01601642,\n",
       "       0.01767154, 0.01980751, 0.01630437, 0.01589394, 0.01723897,\n",
       "       0.02022145, 0.01802418, 0.01782941, 0.01500817, 0.02095466,\n",
       "       0.01883552, 0.01909175, 0.01883518, 0.02072026, 0.01965916,\n",
       "       0.01735514, 0.01707083, 0.01847447, 0.01540232, 0.01781654,\n",
       "       0.0159461 , 0.01722996, 0.02016604, 0.01378774, 0.0187598 ,\n",
       "       0.02169963, 0.01856578, 0.01750644])"
      ]
     },
     "execution_count": 15,
     "metadata": {},
     "output_type": "execute_result"
    }
   ],
   "source": [
    "model.feature_importances_"
   ]
  },
  {
   "cell_type": "code",
   "execution_count": 16,
   "metadata": {
    "scrolled": true
   },
   "outputs": [
    {
     "data": {
      "image/png": "[encoded data removed]",
      "text/plain": [
       "<Figure size 1440x1440 with 1 Axes>"
      ]
     },
     "metadata": {
      "needs_background": "light"
     },
     "output_type": "display_data"
    }
   ],
   "source": [
    "feature_importances = pd.Series(model.feature_importances_, index=X_train.columns)\n",
    "feature_importances.sort_values(inplace=True)\n",
    "feature_importances.plot(kind=\"barh\", figsize=(20,20))\n",
    "plt.title('Importance of Each Variable in Model')\n",
    "plt.show()"
   ]
  },
  {
   "cell_type": "markdown",
   "metadata": {},
   "source": [
    "Using this visualization, we are able to drop columns which are not very impactful in our prediction which will help in making our model as fast as possible while still maintaining a similar, or even better, level of accuracy."
   ]
  },
  {
   "cell_type": "code",
   "execution_count": 23,
   "metadata": {},
   "outputs": [
    {
     "name": "stderr",
     "output_type": "stream",
     "text": [
      "/Users/madisonkohls/opt/anaconda3/lib/python3.8/site-packages/pandas/core/frame.py:3990: SettingWithCopyWarning: \n",
      "A value is trying to be set on a copy of a slice from a DataFrame\n",
      "\n",
      "See the caveats in the documentation: https://pandas.pydata.org/pandas-docs/stable/user_guide/indexing.html#returning-a-view-versus-a-copy\n",
      "  return super().drop(\n"
     ]
    }
   ],
   "source": [
    "personality_to_music_questions.drop(columns=\n",
    "                                    ['Personality', 'Hypochondria', 'Mood swings', 'Unpopularity', \n",
    "                                     'Dreams', 'Criminal damage', 'Happiness in life',\n",
    "                                    'Cheating in school', 'God', 'Keeping promises',\n",
    "                                    'Final judgement', 'Knowing the right people', 'Loss of interest',\n",
    "                                    'Energy levels', 'Charity', 'Judgment calls', 'Fake',\n",
    "                                    'Getting angry', \"Parents' advice\", 'Borrowed stuff', 'Loneliness',\n",
    "                                    'Health', 'Life struggles', 'New environment', 'Reliability', 'Waiting'], \n",
    "                                    inplace=True)"
   ]
  },
  {
   "cell_type": "code",
   "execution_count": 25,
   "metadata": {},
   "outputs": [],
   "source": [
    "X_train, X_test, y_train, y_test = train_test_split(personality_to_music_questions.drop(['Music'], axis='columns'),\n",
    "                                                    personality_to_music_questions['Music'], \n",
    "                                                    test_size=0.2)"
   ]
  },
  {
   "cell_type": "markdown",
   "metadata": {},
   "source": [
    "### Hyperparameter Tuning"
   ]
  },
  {
   "cell_type": "markdown",
   "metadata": {},
   "source": [
    "We will be using sklearn's [RandomizedSearchCV](https://scikit-learn.org/stable/modules/generated/sklearn.model_selection.RandomizedSearchCV.html?highlight=randomizedsearchcv) to create a parameter grid and efficiently test our model. First, we can look at all the parameters of our model:"
   ]
  },
  {
   "cell_type": "code",
   "execution_count": 26,
   "metadata": {},
   "outputs": [
    {
     "name": "stdout",
     "output_type": "stream",
     "text": [
      "Parameters currently in use:\n",
      "\n",
      "{'bootstrap': True,\n",
      " 'ccp_alpha': 0.0,\n",
      " 'class_weight': None,\n",
      " 'criterion': 'gini',\n",
      " 'max_depth': None,\n",
      " 'max_features': 'auto',\n",
      " 'max_leaf_nodes': None,\n",
      " 'max_samples': None,\n",
      " 'min_impurity_decrease': 0.0,\n",
      " 'min_impurity_split': None,\n",
      " 'min_samples_leaf': 1,\n",
      " 'min_samples_split': 2,\n",
      " 'min_weight_fraction_leaf': 0.0,\n",
      " 'n_estimators': 150,\n",
      " 'n_jobs': None,\n",
      " 'oob_score': True,\n",
      " 'random_state': 42,\n",
      " 'verbose': 0,\n",
      " 'warm_start': False}\n"
     ]
    }
   ],
   "source": [
    "from pprint import pprint\n",
    "# Look at parameters used by our current forest\n",
    "print('Parameters currently in use:\\n')\n",
    "pprint(model.get_params())"
   ]
  },
  {
   "cell_type": "code",
   "execution_count": 27,
   "metadata": {},
   "outputs": [
    {
     "name": "stdout",
     "output_type": "stream",
     "text": [
      "{'bootstrap': [True, False],\n",
      " 'max_depth': [10, 20, 30, 40, 50, 60, 70, 80, 90, 100, 110, None],\n",
      " 'max_features': ['auto', 'sqrt', 'log2', 0.9, 0.2],\n",
      " 'min_samples_leaf': [1, 2, 3, 4, 5],\n",
      " 'min_samples_split': [2, 5, 10],\n",
      " 'n_estimators': [50, 155, 261, 366, 472, 577, 683, 788, 894, 1000],\n",
      " 'oob_score': [True],\n",
      " 'warm_start': [True, False]}\n"
     ]
    }
   ],
   "source": [
    "from sklearn.model_selection import RandomizedSearchCV\n",
    "import numpy as np\n",
    "oob_score=[True]\n",
    "n_estimators = [int(x) for x in np.linspace(start = 50, stop = 1000, num = 10)]\n",
    "max_features = ['auto', 'sqrt', 'log2', 0.9, 0.2]\n",
    "max_depth = [int(x) for x in np.linspace(10, 110, num = 11)]\n",
    "max_depth.append(None)\n",
    "min_samples_split = [2, 5, 10]\n",
    "min_samples_leaf = [1, 2, 3, 4, 5]\n",
    "bootstrap = [True, False]\n",
    "warm_start = [True, False]\n",
    "# Create the random grid\n",
    "random_grid = {'n_estimators': n_estimators,\n",
    "               'max_features': max_features,\n",
    "               'max_depth': max_depth,\n",
    "               'min_samples_split': min_samples_split,\n",
    "               'min_samples_leaf': min_samples_leaf,\n",
    "               'bootstrap': bootstrap,\n",
    "               'warm_start': warm_start,\n",
    "               'oob_score': oob_score}\n",
    "pprint(random_grid)"
   ]
  },
  {
   "cell_type": "code",
   "execution_count": 28,
   "metadata": {
    "scrolled": true
   },
   "outputs": [
    {
     "name": "stdout",
     "output_type": "stream",
     "text": [
      "Fitting 3 folds for each of 100 candidates, totalling 300 fits\n"
     ]
    },
    {
     "name": "stderr",
     "output_type": "stream",
     "text": [
      "[Parallel(n_jobs=-1)]: Using backend LokyBackend with 4 concurrent workers.\n",
      "[Parallel(n_jobs=-1)]: Done  33 tasks      | elapsed:   15.5s\n",
      "[Parallel(n_jobs=-1)]: Done 154 tasks      | elapsed:   59.8s\n",
      "[Parallel(n_jobs=-1)]: Done 300 out of 300 | elapsed:  1.9min finished\n"
     ]
    },
    {
     "data": {
      "text/plain": [
       "RandomizedSearchCV(cv=3, estimator=RandomForestClassifier(), n_iter=100,\n",
       "                   n_jobs=-1,\n",
       "                   param_distributions={'bootstrap': [True, False],\n",
       "                                        'max_depth': [10, 20, 30, 40, 50, 60,\n",
       "                                                      70, 80, 90, 100, 110,\n",
       "                                                      None],\n",
       "                                        'max_features': ['auto', 'sqrt', 'log2',\n",
       "                                                         0.9, 0.2],\n",
       "                                        'min_samples_leaf': [1, 2, 3, 4, 5],\n",
       "                                        'min_samples_split': [2, 5, 10],\n",
       "                                        'n_estimators': [50, 155, 261, 366, 472,\n",
       "                                                         577, 683, 788, 894,\n",
       "                                                         1000],\n",
       "                                        'oob_score': [True],\n",
       "                                        'warm_start': [True, False]},\n",
       "                   random_state=42, verbose=2)"
      ]
     },
     "execution_count": 28,
     "metadata": {},
     "output_type": "execute_result"
    }
   ],
   "source": [
    "# Use the random grid to search for best hyperparameters\n",
    "# First create the base model to tune\n",
    "hyperparametermodel = RandomForestClassifier()\n",
    "# Random search of parameters, using 3 fold cross validation, \n",
    "# search across 100 different combinations, and use all available cores\n",
    "rf_random = RandomizedSearchCV(estimator = hyperparametermodel, param_distributions = random_grid, n_iter = 100, cv = 3, verbose=2, random_state=42, n_jobs = -1)\n",
    "# Fit the random search model\n",
    "rf_random.fit(X_train, y_train)"
   ]
  },
  {
   "cell_type": "code",
   "execution_count": 29,
   "metadata": {},
   "outputs": [
    {
     "data": {
      "text/plain": [
       "{'warm_start': False,\n",
       " 'oob_score': True,\n",
       " 'n_estimators': 788,\n",
       " 'min_samples_split': 2,\n",
       " 'min_samples_leaf': 4,\n",
       " 'max_features': 'log2',\n",
       " 'max_depth': 110,\n",
       " 'bootstrap': True}"
      ]
     },
     "execution_count": 29,
     "metadata": {},
     "output_type": "execute_result"
    }
   ],
   "source": [
    "rf_random.best_params_"
   ]
  },
  {
   "cell_type": "code",
   "execution_count": 30,
   "metadata": {},
   "outputs": [],
   "source": [
    "def evaluate(model, test_features, test_labels):\n",
    "    predictions = model.predict(test_features)\n",
    "    errors = abs(predictions - test_labels)\n",
    "    mape = 100 * np.mean(errors / test_labels)\n",
    "    accuracy = 100 - mape\n",
    "    print('Model Performance')\n",
    "    print('Average Error: {:0.4f} degrees.'.format(np.mean(errors)))\n",
    "    print('Accuracy = {:0.2f}%.'.format(accuracy))\n",
    "    return accuracy"
   ]
  },
  {
   "cell_type": "code",
   "execution_count": 31,
   "metadata": {},
   "outputs": [
    {
     "name": "stdout",
     "output_type": "stream",
     "text": [
      "Model Performance\n",
      "Average Error: 0.2704 degrees.\n",
      "Accuracy = 89.14%.\n"
     ]
    }
   ],
   "source": [
    "base_model = RandomForestClassifier(n_estimators = 10, random_state = 42)\n",
    "base_model.fit(X_train, y_train)\n",
    "base_accuracy = evaluate(base_model, X_test, y_test)"
   ]
  },
  {
   "cell_type": "code",
   "execution_count": 32,
   "metadata": {},
   "outputs": [
    {
     "name": "stdout",
     "output_type": "stream",
     "text": [
      "Model Performance\n",
      "Average Error: 0.2296 degrees.\n",
      "Accuracy = 89.71%.\n"
     ]
    }
   ],
   "source": [
    "best_random = rf_random.best_estimator_\n",
    "random_accuracy = evaluate(best_random, X_test, y_test)"
   ]
  },
  {
   "cell_type": "code",
   "execution_count": 33,
   "metadata": {},
   "outputs": [
    {
     "name": "stdout",
     "output_type": "stream",
     "text": [
      "Improvement of 0.64%.\n"
     ]
    }
   ],
   "source": [
    "print('Improvement of {:0.2f}%.'.format( 100 * (random_accuracy - base_accuracy) / base_accuracy))"
   ]
  },
  {
   "cell_type": "markdown",
   "metadata": {},
   "source": [
    "We will further the search for the best hyperparameters now that we have a general idea of what parameters work best. We will be using GridSearchCV."
   ]
  },
  {
   "cell_type": "code",
   "execution_count": 65,
   "metadata": {},
   "outputs": [],
   "source": [
    "from sklearn.model_selection import GridSearchCV\n",
    "# Create the parameter grid based on the results of random search \n",
    "param_grid = {\n",
    "    'oob_score': oob_score,\n",
    "    'bootstrap': [True],\n",
    "    'warm_start': [False],\n",
    "    'max_depth': [1, 2, 3],\n",
    "    'max_features': ['log2'],\n",
    "    'min_samples_leaf': [4],\n",
    "    'min_samples_split': [2],\n",
    "    'n_estimators': [20, 50, 100]\n",
    "}\n",
    "# Create a based model\n",
    "gridsearchmodel = RandomForestClassifier()\n",
    "# Instantiate the grid search model\n",
    "grid_search = GridSearchCV(estimator = gridsearchmodel, param_grid = param_grid, cv = 3, n_jobs = -1, verbose = 2)"
   ]
  },
  {
   "cell_type": "code",
   "execution_count": 66,
   "metadata": {},
   "outputs": [
    {
     "name": "stdout",
     "output_type": "stream",
     "text": [
      "Fitting 3 folds for each of 9 candidates, totalling 27 fits\n"
     ]
    },
    {
     "name": "stderr",
     "output_type": "stream",
     "text": [
      "[Parallel(n_jobs=-1)]: Using backend LokyBackend with 4 concurrent workers.\n",
      "[Parallel(n_jobs=-1)]: Done  20 out of  27 | elapsed:    1.3s remaining:    0.5s\n",
      "[Parallel(n_jobs=-1)]: Done  27 out of  27 | elapsed:    1.7s finished\n"
     ]
    },
    {
     "data": {
      "text/plain": [
       "{'bootstrap': True,\n",
       " 'max_depth': 1,\n",
       " 'max_features': 'log2',\n",
       " 'min_samples_leaf': 4,\n",
       " 'min_samples_split': 2,\n",
       " 'n_estimators': 20,\n",
       " 'oob_score': True,\n",
       " 'warm_start': False}"
      ]
     },
     "execution_count": 66,
     "metadata": {},
     "output_type": "execute_result"
    }
   ],
   "source": [
    "# Fit the grid search to the data\n",
    "grid_search.fit(X_train, y_train)\n",
    "grid_search.best_params_"
   ]
  },
  {
   "cell_type": "code",
   "execution_count": 67,
   "metadata": {},
   "outputs": [
    {
     "name": "stdout",
     "output_type": "stream",
     "text": [
      "Model Performance\n",
      "Average Error: 0.2296 degrees.\n",
      "Accuracy = 89.71%.\n"
     ]
    }
   ],
   "source": [
    "best_grid = grid_search.best_estimator_\n",
    "grid_accuracy = evaluate(best_grid, X_test, y_test)"
   ]
  },
  {
   "cell_type": "code",
   "execution_count": 68,
   "metadata": {
    "scrolled": true
   },
   "outputs": [
    {
     "name": "stdout",
     "output_type": "stream",
     "text": [
      "Improvement of 0.64%.\n"
     ]
    }
   ],
   "source": [
    "print('Improvement of {:0.2f}%.'.format( 100 * (grid_accuracy - base_accuracy) / base_accuracy))"
   ]
  },
  {
   "cell_type": "code",
   "execution_count": 80,
   "metadata": {},
   "outputs": [
    {
     "data": {
      "text/plain": [
       "RandomForestClassifier(max_depth=1, max_features='log2', min_samples_leaf=4,\n",
       "                       n_estimators=20, oob_score=True, random_state=42)"
      ]
     },
     "execution_count": 80,
     "metadata": {},
     "output_type": "execute_result"
    }
   ],
   "source": [
    "bestmodel = RandomForestClassifier(bootstrap= True, max_depth=1,max_features='log2',\n",
    "                                   min_samples_leaf=4,min_samples_split=2,\n",
    "                                n_estimators=20, oob_score=True, warm_start=False, random_state=42)\n",
    "bestmodel.fit(X_train, y_train)"
   ]
  },
  {
   "cell_type": "code",
   "execution_count": 81,
   "metadata": {
    "scrolled": true
   },
   "outputs": [
    {
     "data": {
      "text/plain": [
       "0.8520408163265306"
      ]
     },
     "execution_count": 81,
     "metadata": {},
     "output_type": "execute_result"
    }
   ],
   "source": [
    "bestmodel.score(X_test, y_test)"
   ]
  },
  {
   "cell_type": "code",
   "execution_count": 82,
   "metadata": {},
   "outputs": [
    {
     "data": {
      "text/plain": [
       "0.8092189500640204"
      ]
     },
     "execution_count": 82,
     "metadata": {},
     "output_type": "execute_result"
    }
   ],
   "source": [
    "bestmodel.oob_score_"
   ]
  },
  {
   "cell_type": "code",
   "execution_count": 84,
   "metadata": {},
   "outputs": [],
   "source": [
    "y_predicted = bestmodel.predict(X_test)"
   ]
  },
  {
   "cell_type": "code",
   "execution_count": 85,
   "metadata": {},
   "outputs": [
    {
     "data": {
      "image/png": "[encoded data removed]",
      "text/plain": [
       "<Figure size 720x504 with 2 Axes>"
      ]
     },
     "metadata": {
      "needs_background": "light"
     },
     "output_type": "display_data"
    }
   ],
   "source": [
    "confusematrix = confusion_matrix(y_test, y_predicted)\n",
    "plt.figure(figsize=(10,7))\n",
    "sns.heatmap(confusematrix, annot=True)\n",
    "plt.xlabel('Predicted')\n",
    "plt.ylabel('Truth')\n",
    "plt.title('Heatmap of True vs Predicted Outputs of Model')\n",
    "plt.show()"
   ]
  },
  {
   "cell_type": "markdown",
   "metadata": {},
   "source": [
    "The model increased in accuracy to 85%, but as can be seen there isn't much variability in the responses. The reson for this is that the majority of respondants rated their enjoyment of music as a 4 so the model decided the best bet would be to rate them all a 4."
   ]
  },
  {
   "cell_type": "markdown",
   "metadata": {},
   "source": [
    "## Multioutput Classification Model of Particular Music Genre Interest"
   ]
  },
  {
   "cell_type": "markdown",
   "metadata": {},
   "source": [
    "Feature engineering a \"top genre\" makes it hard for the model to predict a genre, and the process of identifying each entry's favorite genre becomes difficult when they rate multiple genres with the highest score. We will be employing sklearn's [multioutput classifier](https://scikit-learn.org/stable/modules/generated/sklearn.multioutput.MultiOutputClassifier.html) to our random forests as a way to cut down on making individual models and see if we can predict interest level in multiple genres rather than level of interest in music."
   ]
  },
  {
   "cell_type": "code",
   "execution_count": 96,
   "metadata": {},
   "outputs": [],
   "source": [
    "from sklearn.multioutput import MultiOutputClassifier"
   ]
  },
  {
   "cell_type": "code",
   "execution_count": 88,
   "metadata": {},
   "outputs": [],
   "source": [
    "personality_to_music_questions = personality_questions[['Country', 'Classical music', 'Pop', \n",
    "                                                        'Hiphop, Rap', 'Rock', 'Daily events', 'Prioritising workload',\n",
    "                                                       'Writing notes', 'Workaholism', 'Thinking ahead', 'Final judgement',\n",
    "                                                       'Reliability', 'Keeping promises', 'Loss of interest',\n",
    "                                                       'Friends versus money', 'Funniness', 'Fake', 'Criminal damage',\n",
    "                                                       'Decision making', 'Elections', 'Self-criticism', 'Judgment calls',\n",
    "                                                       'Hypochondria', 'Empathy', 'Eating to survive', 'Giving',\n",
    "                                                       'Compassion to animals', 'Borrowed stuff', 'Loneliness',\n",
    "                                                       'Cheating in school', 'Health', 'Changing the past', 'God', 'Dreams',\n",
    "                                                       'Charity', 'Number of friends', 'Waiting',\n",
    "                                                       'New environment', 'Mood swings', 'Appearence and gestures',\n",
    "                                                       'Socializing', 'Achievements', 'Responding to a serious letter',\n",
    "                                                       'Children', 'Assertiveness', 'Getting angry',\n",
    "                                                       'Knowing the right people', 'Public speaking', 'Unpopularity',\n",
    "                                                       'Life struggles', 'Happiness in life', 'Energy levels',\n",
    "                                                       'Small - big dogs', 'Personality', 'Finding lost valuables',\n",
    "                                                       'Getting up', 'Interests or hobbies', \"Parents' advice\"]]"
   ]
  },
  {
   "cell_type": "code",
   "execution_count": 110,
   "metadata": {},
   "outputs": [],
   "source": [
    "X_train, X_test, y_train, y_test = train_test_split(personality_to_music_questions.drop(columns=['Country', 'Classical music', 'Pop', \n",
    "                                                        'Hiphop, Rap', 'Rock']), personality_to_music_questions[['Country', 'Classical music', 'Pop', \n",
    "                                                        'Hiphop, Rap', 'Rock']], test_size=0.2)"
   ]
  },
  {
   "cell_type": "code",
   "execution_count": 111,
   "metadata": {
    "scrolled": true
   },
   "outputs": [
    {
     "data": {
      "text/plain": [
       "array([[1, 4, 5, ..., 4, 3, 4],\n",
       "       [1, 1, 2, ..., 5, 3, 1],\n",
       "       [3, 1, 2, ..., 5, 5, 5],\n",
       "       ...,\n",
       "       [4, 2, 1, ..., 5, 4, 2],\n",
       "       [3, 2, 3, ..., 3, 5, 4],\n",
       "       [5, 1, 2, ..., 5, 2, 4]])"
      ]
     },
     "execution_count": 111,
     "metadata": {},
     "output_type": "execute_result"
    }
   ],
   "source": [
    "X_train = X_train.to_numpy()\n",
    "y_train = y_train.to_numpy()\n",
    "X_train"
   ]
  },
  {
   "cell_type": "code",
   "execution_count": 112,
   "metadata": {},
   "outputs": [
    {
     "data": {
      "text/plain": [
       "array([[2, 2, 4, 3, 2],\n",
       "       [1, 3, 4, 3, 3],\n",
       "       [4, 3, 3, 3, 1],\n",
       "       [2, 2, 4, 3, 3],\n",
       "       [1, 5, 4, 1, 4],\n",
       "       [3, 2, 2, 1, 5],\n",
       "       [3, 3, 3, 3, 3],\n",
       "       [4, 3, 4, 3, 4],\n",
       "       [3, 3, 3, 4, 4],\n",
       "       [1, 1, 4, 2, 4],\n",
       "       [3, 5, 5, 5, 3],\n",
       "       [1, 1, 3, 1, 5],\n",
       "       [1, 1, 3, 1, 5],\n",
       "       [2, 1, 4, 4, 1],\n",
       "       [2, 2, 5, 4, 4],\n",
       "       [2, 4, 5, 2, 5],\n",
       "       [1, 2, 4, 1, 3],\n",
       "       [2, 3, 4, 2, 3],\n",
       "       [2, 2, 3, 3, 5],\n",
       "       [1, 3, 4, 4, 1],\n",
       "       [3, 2, 5, 4, 4],\n",
       "       [2, 4, 3, 2, 5],\n",
       "       [2, 2, 5, 5, 3],\n",
       "       [2, 4, 1, 1, 5],\n",
       "       [2, 5, 2, 1, 3],\n",
       "       [4, 3, 2, 5, 5],\n",
       "       [2, 3, 3, 1, 5],\n",
       "       [1, 3, 2, 2, 5],\n",
       "       [2, 2, 5, 5, 3],\n",
       "       [1, 2, 2, 1, 5],\n",
       "       [2, 5, 5, 4, 5],\n",
       "       [3, 2, 2, 1, 5],\n",
       "       [1, 1, 2, 2, 2],\n",
       "       [3, 3, 3, 1, 5],\n",
       "       [2, 2, 4, 4, 1],\n",
       "       [2, 2, 4, 5, 4],\n",
       "       [2, 2, 3, 2, 4],\n",
       "       [2, 4, 4, 2, 5],\n",
       "       [2, 2, 2, 5, 2],\n",
       "       [1, 2, 4, 2, 4],\n",
       "       [4, 4, 5, 2, 5],\n",
       "       [1, 3, 4, 3, 1],\n",
       "       [1, 5, 4, 1, 5],\n",
       "       [3, 1, 4, 2, 3],\n",
       "       [2, 2, 3, 2, 5],\n",
       "       [1, 1, 3, 1, 5],\n",
       "       [3, 2, 3, 3, 2],\n",
       "       [2, 3, 2, 2, 5],\n",
       "       [1, 2, 5, 3, 4],\n",
       "       [2, 3, 4, 5, 3],\n",
       "       [3, 4, 2, 2, 5],\n",
       "       [1, 3, 2, 5, 5],\n",
       "       [2, 1, 3, 1, 1],\n",
       "       [2, 3, 2, 5, 3],\n",
       "       [2, 5, 5, 5, 5],\n",
       "       [3, 2, 4, 2, 4],\n",
       "       [2, 1, 3, 4, 3],\n",
       "       [3, 1, 2, 1, 5],\n",
       "       [1, 1, 5, 5, 2],\n",
       "       [2, 4, 3, 2, 5],\n",
       "       [3, 3, 4, 4, 5],\n",
       "       [2, 2, 4, 4, 4],\n",
       "       [2, 5, 3, 1, 5],\n",
       "       [2, 2, 4, 3, 5],\n",
       "       [2, 4, 4, 4, 4],\n",
       "       [3, 4, 2, 1, 4],\n",
       "       [2, 2, 2, 1, 4],\n",
       "       [1, 3, 4, 1, 5],\n",
       "       [1, 3, 4, 4, 4],\n",
       "       [5, 4, 4, 1, 3],\n",
       "       [1, 3, 1, 1, 5],\n",
       "       [2, 3, 4, 1, 4],\n",
       "       [1, 4, 4, 3, 3],\n",
       "       [4, 4, 3, 4, 3],\n",
       "       [3, 5, 3, 1, 4],\n",
       "       [1, 2, 1, 1, 1],\n",
       "       [3, 4, 3, 4, 4],\n",
       "       [2, 3, 4, 3, 3],\n",
       "       [3, 2, 2, 3, 2],\n",
       "       [2, 2, 5, 4, 3],\n",
       "       [3, 5, 3, 3, 5],\n",
       "       [1, 4, 3, 1, 5],\n",
       "       [2, 2, 4, 4, 4],\n",
       "       [4, 5, 3, 3, 5],\n",
       "       [1, 3, 5, 5, 3],\n",
       "       [4, 4, 2, 1, 3],\n",
       "       [1, 4, 4, 4, 4],\n",
       "       [1, 1, 5, 2, 3],\n",
       "       [2, 1, 4, 4, 3],\n",
       "       [1, 2, 1, 1, 2],\n",
       "       [1, 3, 4, 3, 5],\n",
       "       [1, 3, 4, 3, 5],\n",
       "       [3, 3, 4, 4, 3],\n",
       "       [2, 2, 3, 2, 5],\n",
       "       [2, 1, 5, 4, 5],\n",
       "       [1, 3, 2, 1, 4],\n",
       "       [1, 4, 3, 4, 4],\n",
       "       [1, 2, 1, 3, 5],\n",
       "       [3, 4, 3, 3, 5],\n",
       "       [4, 4, 4, 1, 5],\n",
       "       [1, 2, 1, 4, 2],\n",
       "       [1, 2, 2, 2, 5],\n",
       "       [2, 3, 4, 4, 4],\n",
       "       [5, 5, 3, 1, 4],\n",
       "       [3, 1, 4, 5, 3],\n",
       "       [2, 2, 3, 4, 3],\n",
       "       [1, 3, 4, 1, 4],\n",
       "       [5, 2, 3, 1, 5],\n",
       "       [3, 4, 2, 4, 5],\n",
       "       [2, 4, 2, 3, 5],\n",
       "       [2, 2, 5, 4, 4],\n",
       "       [1, 3, 1, 1, 5],\n",
       "       [1, 2, 3, 1, 4],\n",
       "       [2, 2, 4, 3, 4],\n",
       "       [1, 2, 4, 3, 5],\n",
       "       [1, 1, 2, 5, 2],\n",
       "       [2, 5, 4, 2, 5],\n",
       "       [1, 3, 3, 4, 5],\n",
       "       [2, 4, 4, 4, 3],\n",
       "       [3, 4, 2, 3, 5],\n",
       "       [3, 5, 1, 1, 5],\n",
       "       [3, 5, 2, 5, 3],\n",
       "       [3, 3, 3, 4, 3],\n",
       "       [1, 5, 3, 3, 5],\n",
       "       [1, 5, 5, 3, 3],\n",
       "       [2, 3, 4, 4, 2],\n",
       "       [3, 2, 5, 3, 4],\n",
       "       [5, 3, 5, 4, 4],\n",
       "       [1, 4, 3, 5, 5],\n",
       "       [3, 5, 4, 1, 4],\n",
       "       [4, 4, 2, 1, 3],\n",
       "       [3, 2, 5, 3, 4],\n",
       "       [3, 3, 2, 1, 3],\n",
       "       [2, 5, 4, 1, 4],\n",
       "       [1, 2, 4, 3, 3],\n",
       "       [4, 5, 5, 4, 3],\n",
       "       [2, 1, 4, 2, 4],\n",
       "       [1, 5, 3, 2, 4],\n",
       "       [4, 3, 4, 5, 5],\n",
       "       [2, 4, 4, 2, 5],\n",
       "       [1, 1, 4, 5, 3],\n",
       "       [2, 3, 4, 4, 4],\n",
       "       [2, 2, 2, 4, 2],\n",
       "       [1, 1, 5, 3, 3],\n",
       "       [1, 3, 5, 4, 3],\n",
       "       [1, 1, 3, 5, 2],\n",
       "       [2, 2, 3, 1, 5],\n",
       "       [3, 3, 5, 2, 4],\n",
       "       [2, 4, 1, 1, 5],\n",
       "       [1, 1, 5, 2, 2],\n",
       "       [4, 5, 5, 3, 4],\n",
       "       [2, 1, 4, 5, 5],\n",
       "       [2, 2, 2, 3, 4],\n",
       "       [1, 3, 3, 1, 5],\n",
       "       [3, 3, 2, 2, 2],\n",
       "       [2, 3, 2, 1, 4],\n",
       "       [1, 2, 5, 3, 3],\n",
       "       [1, 3, 3, 5, 3],\n",
       "       [1, 3, 3, 4, 4],\n",
       "       [3, 3, 5, 4, 5],\n",
       "       [2, 2, 3, 1, 5],\n",
       "       [2, 3, 4, 4, 3],\n",
       "       [2, 3, 4, 4, 2],\n",
       "       [3, 4, 2, 2, 5],\n",
       "       [3, 3, 3, 1, 3],\n",
       "       [1, 5, 4, 2, 4],\n",
       "       [2, 2, 2, 5, 3],\n",
       "       [2, 2, 2, 1, 4],\n",
       "       [3, 2, 3, 4, 3],\n",
       "       [2, 1, 4, 4, 3],\n",
       "       [1, 1, 4, 1, 5],\n",
       "       [2, 2, 4, 4, 4],\n",
       "       [2, 3, 3, 3, 5],\n",
       "       [5, 5, 5, 2, 5],\n",
       "       [3, 2, 4, 3, 3],\n",
       "       [1, 4, 2, 2, 2],\n",
       "       [2, 3, 5, 5, 4],\n",
       "       [4, 4, 3, 2, 4],\n",
       "       [2, 2, 5, 4, 4],\n",
       "       [2, 4, 4, 3, 4],\n",
       "       [1, 4, 4, 3, 3],\n",
       "       [1, 1, 4, 2, 5],\n",
       "       [1, 4, 2, 1, 5],\n",
       "       [2, 5, 4, 2, 5],\n",
       "       [1, 3, 2, 1, 5],\n",
       "       [3, 2, 4, 2, 4],\n",
       "       [2, 3, 2, 2, 2],\n",
       "       [1, 5, 5, 4, 5],\n",
       "       [4, 1, 1, 1, 5],\n",
       "       [2, 4, 3, 3, 3],\n",
       "       [2, 1, 5, 5, 5],\n",
       "       [3, 2, 4, 2, 5],\n",
       "       [2, 2, 5, 2, 3],\n",
       "       [2, 4, 5, 5, 5],\n",
       "       [5, 5, 4, 4, 5],\n",
       "       [2, 4, 3, 1, 3]])"
      ]
     },
     "execution_count": 112,
     "metadata": {},
     "output_type": "execute_result"
    }
   ],
   "source": [
    "X_test = X_test.to_numpy()\n",
    "y_test = y_test.to_numpy()\n",
    "y_test\n",
    "#Columns are 'Country', 'Classical music', 'Pop', 'Hiphop, Rap', 'Rock'"
   ]
  },
  {
   "cell_type": "code",
   "execution_count": 117,
   "metadata": {},
   "outputs": [],
   "source": [
    "forest = RandomForestClassifier(bootstrap= True, max_depth=1,max_features='log2',\n",
    "                                   min_samples_leaf=4,min_samples_split=2,\n",
    "                                n_estimators=20, oob_score=True, warm_start=False, random_state=42)\n",
    "clf = MultiOutputClassifier(forest).fit(X_train, y_train)"
   ]
  },
  {
   "cell_type": "code",
   "execution_count": 118,
   "metadata": {
    "scrolled": true
   },
   "outputs": [
    {
     "data": {
      "text/plain": [
       "0.0"
      ]
     },
     "execution_count": 118,
     "metadata": {},
     "output_type": "execute_result"
    }
   ],
   "source": [
    "clf.score(X_test, y_test) #0.0 the fuck-"
   ]
  },
  {
   "cell_type": "code",
   "execution_count": 1,
   "metadata": {
    "scrolled": true
   },
   "outputs": [
    {
     "ename": "NameError",
     "evalue": "name 'clf' is not defined",
     "output_type": "error",
     "traceback": [
      "\u001b[0;31m---------------------------------------------------------------------------\u001b[0m",
      "\u001b[0;31mNameError\u001b[0m                                 Traceback (most recent call last)",
      "\u001b[0;32m<ipython-input-1-efa208315404>\u001b[0m in \u001b[0;36m<module>\u001b[0;34m\u001b[0m\n\u001b[0;32m----> 1\u001b[0;31m \u001b[0mclf\u001b[0m\u001b[0;34m.\u001b[0m\u001b[0mpredict\u001b[0m\u001b[0;34m(\u001b[0m\u001b[0;34m)\u001b[0m \u001b[0;31m# <--input answers to questions to get a prediction even tho the accuracy is '0' ._.\u001b[0m\u001b[0;34m\u001b[0m\u001b[0;34m\u001b[0m\u001b[0m\n\u001b[0m",
      "\u001b[0;31mNameError\u001b[0m: name 'clf' is not defined"
     ]
    }
   ],
   "source": [
    "clf.predict() # <--input answers to questions to get a prediction even tho the accuracy is '0' ._."
   ]
  },
  {
   "cell_type": "code",
   "execution_count": null,
   "metadata": {},
   "outputs": [],
   "source": []
  },
  {
   "cell_type": "code",
   "execution_count": null,
   "metadata": {},
   "outputs": [],
   "source": []
  },
  {
   "cell_type": "code",
   "execution_count": null,
   "metadata": {},
   "outputs": [],
   "source": []
  },
  {
   "cell_type": "code",
   "execution_count": null,
   "metadata": {},
   "outputs": [],
   "source": []
  },
  {
   "cell_type": "code",
   "execution_count": null,
   "metadata": {},
   "outputs": [],
   "source": []
  },
  {
   "cell_type": "code",
   "execution_count": null,
   "metadata": {},
   "outputs": [],
   "source": []
  }
 ],
 "metadata": {
  "kernelspec": {
   "display_name": "Python 3",
   "language": "python",
   "name": "python3"
  },
  "language_info": {
   "codemirror_mode": {
    "name": "ipython",
    "version": 3
   },
   "file_extension": ".py",
   "mimetype": "text/x-python",
   "name": "python",
   "nbconvert_exporter": "python",
   "pygments_lexer": "ipython3",
   "version": "3.8.3"
  }
 },
 "nbformat": 4,
 "nbformat_minor": 4
}

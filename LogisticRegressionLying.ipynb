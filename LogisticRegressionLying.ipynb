{
  "nbformat": 4,
  "nbformat_minor": 0,
  "metadata": {
    "colab": {
      "name": "LogisticRegressionLying.ipynb",
      "provenance": []
    },
    "kernelspec": {
      "name": "python3",
      "display_name": "Python 3"
    }
  },
  "cells": [
    {
      "cell_type": "code",
      "metadata": {
        "id": "1Pe3Zd_QGOs-"
      },
      "source": [
        "import pandas as pd\n",
        "import requests\n",
        "import io\n",
        "import numpy\n",
        "from sklearn.model_selection import train_test_split\n",
        "from sklearn.feature_selection import SelectFromModel\n",
        "from sklearn.linear_model import LogisticRegression\n",
        "from sklearn.metrics import plot_confusion_matrix"
      ],
      "execution_count": null,
      "outputs": []
    },
    {
      "cell_type": "code",
      "metadata": {
        "id": "B6xVrIkSFnMb"
      },
      "source": [
        "url = \"https://raw.githubusercontent.com/the-data-science-union/DSU-W21-Personality/main/cleaned_youngpeople_data.csv\" # Make sure the url is the raw version of the file on GitHub\n",
        "download = requests.get(url).content\n",
        "personality_questions = pd.read_csv(io.StringIO(download.decode('utf-8')))\n",
        "\n",
        "personality_questions=personality_questions.drop(columns=['Left - right handed', 'Gender', 'Education',\n",
        "                                                          'Punctuality', 'Village - town', 'Only child', \n",
        "                                                          'Smoking', 'Internet usage', 'House - block of flats', 'Alcohol'])"
      ],
      "execution_count": null,
      "outputs": []
    },
    {
      "cell_type": "code",
      "metadata": {
        "id": "9FnN9odsGoAx"
      },
      "source": [
        "X=personality_questions.drop(columns=['Lying'])\n",
        "Y=personality_questions[['Lying']]\n",
        "X_train, X_test, y_train, y_test = train_test_split(X, Y, test_size=0.2)\n",
        "X_train = X_train.to_numpy()\n",
        "y_train = y_train.to_numpy()\n",
        "X_test = X_test.to_numpy()\n",
        "y_test = y_test.to_numpy()"
      ],
      "execution_count": null,
      "outputs": []
    },
    {
      "cell_type": "code",
      "metadata": {
        "id": "C6qNPYOaHN3d"
      },
      "source": [
        "clf1 = LogisticRegression(random_state=0).fit(X_train, y_train)\n",
        "print(clf1.score(X_test, y_test))"
      ],
      "execution_count": null,
      "outputs": []
    },
    {
      "cell_type": "code",
      "metadata": {
        "id": "p5Wle5xPHO_6"
      },
      "source": [
        "plot_confusion_matrix(clf, X_test, y_test)"
      ],
      "execution_count": null,
      "outputs": []
    },
    {
      "cell_type": "code",
      "metadata": {
        "id": "iZmBBRJbHP_4"
      },
      "source": [
        "clf2 = LogisticRegression(random_state=0, penalty='l1', solver = 'saga').fit(X_train, y_train)\n",
        "print(clf2.score(X_test, y_test))"
      ],
      "execution_count": null,
      "outputs": []
    },
    {
      "cell_type": "code",
      "metadata": {
        "id": "GA9CX65yHQ9z"
      },
      "source": [
        "plot_confusion_matrix(clf2, X_test, y_test)"
      ],
      "execution_count": null,
      "outputs": []
    },
    {
      "cell_type": "markdown",
      "metadata": {
        "id": "Ge7-8-JPHZE1"
      },
      "source": [
        "## **Feature Selection**"
      ]
    },
    {
      "cell_type": "code",
      "metadata": {
        "id": "mjqJhHbzHSFG"
      },
      "source": [
        "model = SelectFromModel(clf, prefit=True)\n",
        "X_new = model.transform(X)\n",
        "print(X_new.shape)"
      ],
      "execution_count": null,
      "outputs": []
    },
    {
      "cell_type": "code",
      "metadata": {
        "id": "sLXOIfTVHS_d"
      },
      "source": [
        "X_train, X_test, y_train, y_test = train_test_split(X_new, Y, test_size=0.2)\n",
        "y_train = y_train.to_numpy()\n",
        "y_test = y_test.to_numpy()\n",
        "clf1 = LogisticRegression(random_state=0).fit(X_train, y_train)\n",
        "print(clf1.score(X_test, y_test))"
      ],
      "execution_count": null,
      "outputs": []
    },
    {
      "cell_type": "code",
      "metadata": {
        "id": "oh8uEh23HUFc"
      },
      "source": [
        "plot_confusion_matrix(clf1, X_test, y_test)"
      ],
      "execution_count": null,
      "outputs": []
    },
    {
      "cell_type": "code",
      "metadata": {
        "id": "PEwtJDuoHU6J"
      },
      "source": [
        "clf2 = LogisticRegression(random_state=0, penalty='l1', solver = 'saga').fit(X_train, y_train)\n",
        "print(clf2.score(X_test, y_test))"
      ],
      "execution_count": null,
      "outputs": []
    },
    {
      "cell_type": "code",
      "metadata": {
        "id": "NneD5_UIHVxn"
      },
      "source": [
        "plot_confusion_matrix(clf2, X_test, y_test)"
      ],
      "execution_count": null,
      "outputs": []
    }
  ]
}